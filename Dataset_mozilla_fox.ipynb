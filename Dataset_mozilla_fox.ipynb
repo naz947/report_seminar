{
 "cells": [
  {
   "cell_type": "code",
   "execution_count": 43,
   "metadata": {},
   "outputs": [
    {
     "data": {
      "text/plain": [
       "<module 'class_plot' from 'class_plot.pyc'>"
      ]
     },
     "execution_count": 43,
     "metadata": {},
     "output_type": "execute_result"
    }
   ],
   "source": [
    "import numpy as np\n",
    "np.random.seed(1337)\n",
    "import json, re,simplejson\n",
    "import pandas as pd\n",
    "import class_plot\n",
    "reload(class_plot)"
   ]
  },
  {
   "cell_type": "code",
   "execution_count": 22,
   "metadata": {},
   "outputs": [],
   "source": [
    "open_bugs_json = 'Dataset/fox/deep_data.json'\n",
    "closed_bugs_json_0 = 'Dataset/fox/train_test_json/classifier_data_0.json'\n",
    "closed_bugs_json_5 = 'Dataset/fox/train_test_json/classifier_data_5.json'\n",
    "closed_bugs_json_10 = 'Dataset/fox/train_test_json/classifier_data_10.json'\n",
    "closed_bugs_json_20 = 'Dataset/fox/train_test_json/classifier_data_20.json'"
   ]
  },
  {
   "cell_type": "code",
   "execution_count": 30,
   "metadata": {},
   "outputs": [],
   "source": [
    "with open(open_bugs_json) as data_file:\n",
    "    data = json.load(data_file, strict=False)\n",
    "open_data=pd.DataFrame(data)"
   ]
  },
  {
   "cell_type": "code",
   "execution_count": 19,
   "metadata": {},
   "outputs": [
    {
     "data": {
      "text/html": [
       "<div>\n",
       "<style scoped>\n",
       "    .dataframe tbody tr th:only-of-type {\n",
       "        vertical-align: middle;\n",
       "    }\n",
       "\n",
       "    .dataframe tbody tr th {\n",
       "        vertical-align: top;\n",
       "    }\n",
       "\n",
       "    .dataframe thead th {\n",
       "        text-align: right;\n",
       "    }\n",
       "</style>\n",
       "<table border=\"1\" class=\"dataframe\">\n",
       "  <thead>\n",
       "    <tr style=\"text-align: right;\">\n",
       "      <th></th>\n",
       "      <th>description</th>\n",
       "      <th>issue_title</th>\n",
       "      <th>owner</th>\n",
       "    </tr>\n",
       "  </thead>\n",
       "  <tbody>\n",
       "    <tr>\n",
       "      <th>0</th>\n",
       "      <td>The dialup properties of the profile should be...</td>\n",
       "      <td>Dialup properties needs to be exposed in prefs</td>\n",
       "      <td>nobody@mozilla.org</td>\n",
       "    </tr>\n",
       "    <tr>\n",
       "      <th>1</th>\n",
       "      <td>Please add \"Match Whole Word Only\" option to b...</td>\n",
       "      <td>[Find] Find whole word only</td>\n",
       "      <td>nobody@mozilla.org</td>\n",
       "    </tr>\n",
       "    <tr>\n",
       "      <th>2</th>\n",
       "      <td>I would really like a plug-in manager for my b...</td>\n",
       "      <td>Plug-In Manager (ui for choosing mimetype-plug...</td>\n",
       "      <td>nobody@mozilla.org</td>\n",
       "    </tr>\n",
       "    <tr>\n",
       "      <th>3</th>\n",
       "      <td>Subject: Re: font selection interface\\nFrom: J...</td>\n",
       "      <td>add font-list support  to the font pref front end</td>\n",
       "      <td>nobody@mozilla.org</td>\n",
       "    </tr>\n",
       "    <tr>\n",
       "      <th>4</th>\n",
       "      <td>This is a 4.x farity feature request, it is us...</td>\n",
       "      <td>Ctrl-Alt-T to show networking debug info</td>\n",
       "      <td>nobody@mozilla.org</td>\n",
       "    </tr>\n",
       "  </tbody>\n",
       "</table>\n",
       "</div>"
      ],
      "text/plain": [
       "                                         description  \\\n",
       "0  The dialup properties of the profile should be...   \n",
       "1  Please add \"Match Whole Word Only\" option to b...   \n",
       "2  I would really like a plug-in manager for my b...   \n",
       "3  Subject: Re: font selection interface\\nFrom: J...   \n",
       "4  This is a 4.x farity feature request, it is us...   \n",
       "\n",
       "                                         issue_title               owner  \n",
       "0     Dialup properties needs to be exposed in prefs  nobody@mozilla.org  \n",
       "1                        [Find] Find whole word only  nobody@mozilla.org  \n",
       "2  Plug-In Manager (ui for choosing mimetype-plug...  nobody@mozilla.org  \n",
       "3  add font-list support  to the font pref front end  nobody@mozilla.org  \n",
       "4           Ctrl-Alt-T to show networking debug info  nobody@mozilla.org  "
      ]
     },
     "execution_count": 19,
     "metadata": {},
     "output_type": "execute_result"
    }
   ],
   "source": [
    "open_data.head()"
   ]
  },
  {
   "cell_type": "code",
   "execution_count": 23,
   "metadata": {
    "scrolled": false
   },
   "outputs": [],
   "source": [
    "with open(closed_bugs_json_0) as data_file:\n",
    "    data = json.load(data_file, strict=False)\n",
    "closed_data_0=pd.DataFrame(data)\n"
   ]
  },
  {
   "cell_type": "code",
   "execution_count": 25,
   "metadata": {},
   "outputs": [
    {
     "data": {
      "text/html": [
       "<div>\n",
       "<style scoped>\n",
       "    .dataframe tbody tr th:only-of-type {\n",
       "        vertical-align: middle;\n",
       "    }\n",
       "\n",
       "    .dataframe tbody tr th {\n",
       "        vertical-align: top;\n",
       "    }\n",
       "\n",
       "    .dataframe thead th {\n",
       "        text-align: right;\n",
       "    }\n",
       "</style>\n",
       "<table border=\"1\" class=\"dataframe\">\n",
       "  <thead>\n",
       "    <tr style=\"text-align: right;\">\n",
       "      <th></th>\n",
       "      <th>description</th>\n",
       "      <th>issue_title</th>\n",
       "      <th>owner</th>\n",
       "    </tr>\n",
       "  </thead>\n",
       "  <tbody>\n",
       "    <tr>\n",
       "      <th>0</th>\n",
       "      <td>From Bugzilla Helper:\\nUser-Agent: Mozilla/4.0...</td>\n",
       "      <td>Cookie Manager: \"Don't allow sites that set re...</td>\n",
       "      <td>mconnor@mozilla.com</td>\n",
       "    </tr>\n",
       "    <tr>\n",
       "      <th>1</th>\n",
       "      <td>Build: 2001052115, Mac OS 9.1\\n\\nTo reproduce:...</td>\n",
       "      <td>Today History folder should be expanded by def...</td>\n",
       "      <td>magicxinzhang@gmail.com</td>\n",
       "    </tr>\n",
       "    <tr>\n",
       "      <th>2</th>\n",
       "      <td>From Bugzilla Helper:\\nUser-Agent: Mozilla/5.0...</td>\n",
       "      <td>[FIX]Not correctly retrieving post data when s...</td>\n",
       "      <td>bzbarsky@mit.edu</td>\n",
       "    </tr>\n",
       "    <tr>\n",
       "      <th>3</th>\n",
       "      <td>From Bugzilla Helper:\\nUser-Agent: Mozilla/5.0...</td>\n",
       "      <td>Show URI in status bar onmouseover of Back/For...</td>\n",
       "      <td>edilee@mozilla.com</td>\n",
       "    </tr>\n",
       "    <tr>\n",
       "      <th>4</th>\n",
       "      <td>Localization problems with Bookmarks \"Sorted B...</td>\n",
       "      <td>Localization problems with Bookmarks \"Sorted B...</td>\n",
       "      <td>mats@mozilla.com</td>\n",
       "    </tr>\n",
       "  </tbody>\n",
       "</table>\n",
       "</div>"
      ],
      "text/plain": [
       "                                         description  \\\n",
       "0  From Bugzilla Helper:\\nUser-Agent: Mozilla/4.0...   \n",
       "1  Build: 2001052115, Mac OS 9.1\\n\\nTo reproduce:...   \n",
       "2  From Bugzilla Helper:\\nUser-Agent: Mozilla/5.0...   \n",
       "3  From Bugzilla Helper:\\nUser-Agent: Mozilla/5.0...   \n",
       "4  Localization problems with Bookmarks \"Sorted B...   \n",
       "\n",
       "                                         issue_title                    owner  \n",
       "0  Cookie Manager: \"Don't allow sites that set re...      mconnor@mozilla.com  \n",
       "1  Today History folder should be expanded by def...  magicxinzhang@gmail.com  \n",
       "2  [FIX]Not correctly retrieving post data when s...         bzbarsky@mit.edu  \n",
       "3  Show URI in status bar onmouseover of Back/For...       edilee@mozilla.com  \n",
       "4  Localization problems with Bookmarks \"Sorted B...         mats@mozilla.com  "
      ]
     },
     "execution_count": 25,
     "metadata": {},
     "output_type": "execute_result"
    }
   ],
   "source": [
    "closed_data_0.head()"
   ]
  },
  {
   "cell_type": "code",
   "execution_count": 27,
   "metadata": {},
   "outputs": [
    {
     "data": {
      "text/html": [
       "<div>\n",
       "<style scoped>\n",
       "    .dataframe tbody tr th:only-of-type {\n",
       "        vertical-align: middle;\n",
       "    }\n",
       "\n",
       "    .dataframe tbody tr th {\n",
       "        vertical-align: top;\n",
       "    }\n",
       "\n",
       "    .dataframe thead th {\n",
       "        text-align: right;\n",
       "    }\n",
       "</style>\n",
       "<table border=\"1\" class=\"dataframe\">\n",
       "  <thead>\n",
       "    <tr style=\"text-align: right;\">\n",
       "      <th></th>\n",
       "      <th>description</th>\n",
       "      <th>issue_title</th>\n",
       "      <th>owner</th>\n",
       "    </tr>\n",
       "  </thead>\n",
       "  <tbody>\n",
       "    <tr>\n",
       "      <th>0</th>\n",
       "      <td>From Bugzilla Helper:\\nUser-Agent: Mozilla/4.0...</td>\n",
       "      <td>Cookie Manager: \"Don't allow sites that set re...</td>\n",
       "      <td>mconnor@mozilla.com</td>\n",
       "    </tr>\n",
       "    <tr>\n",
       "      <th>1</th>\n",
       "      <td>From Bugzilla Helper:\\nUser-Agent: Mozilla/5.0...</td>\n",
       "      <td>[FIX]Not correctly retrieving post data when s...</td>\n",
       "      <td>bzbarsky@mit.edu</td>\n",
       "    </tr>\n",
       "    <tr>\n",
       "      <th>2</th>\n",
       "      <td>From Bugzilla Helper:\\nUser-Agent: Mozilla/5.0...</td>\n",
       "      <td>Show URI in status bar onmouseover of Back/For...</td>\n",
       "      <td>edilee@mozilla.com</td>\n",
       "    </tr>\n",
       "    <tr>\n",
       "      <th>3</th>\n",
       "      <td>Localization problems with Bookmarks \"Sorted B...</td>\n",
       "      <td>Localization problems with Bookmarks \"Sorted B...</td>\n",
       "      <td>mats@mozilla.com</td>\n",
       "    </tr>\n",
       "    <tr>\n",
       "      <th>4</th>\n",
       "      <td>RFE: Mozilla should support X11 session manage...</td>\n",
       "      <td>Mozilla should support X11 session management</td>\n",
       "      <td>mwu.code@gmail.com</td>\n",
       "    </tr>\n",
       "  </tbody>\n",
       "</table>\n",
       "</div>"
      ],
      "text/plain": [
       "                                         description  \\\n",
       "0  From Bugzilla Helper:\\nUser-Agent: Mozilla/4.0...   \n",
       "1  From Bugzilla Helper:\\nUser-Agent: Mozilla/5.0...   \n",
       "2  From Bugzilla Helper:\\nUser-Agent: Mozilla/5.0...   \n",
       "3  Localization problems with Bookmarks \"Sorted B...   \n",
       "4  RFE: Mozilla should support X11 session manage...   \n",
       "\n",
       "                                         issue_title                owner  \n",
       "0  Cookie Manager: \"Don't allow sites that set re...  mconnor@mozilla.com  \n",
       "1  [FIX]Not correctly retrieving post data when s...     bzbarsky@mit.edu  \n",
       "2  Show URI in status bar onmouseover of Back/For...   edilee@mozilla.com  \n",
       "3  Localization problems with Bookmarks \"Sorted B...     mats@mozilla.com  \n",
       "4      Mozilla should support X11 session management   mwu.code@gmail.com  "
      ]
     },
     "execution_count": 27,
     "metadata": {},
     "output_type": "execute_result"
    }
   ],
   "source": [
    "with open(closed_bugs_json_5) as data_file:\n",
    "    data = json.load(data_file, strict=False)\n",
    "closed_data_5=pd.DataFrame(data)\n",
    "closed_data_5.head()"
   ]
  },
  {
   "cell_type": "code",
   "execution_count": 28,
   "metadata": {},
   "outputs": [
    {
     "data": {
      "text/html": [
       "<div>\n",
       "<style scoped>\n",
       "    .dataframe tbody tr th:only-of-type {\n",
       "        vertical-align: middle;\n",
       "    }\n",
       "\n",
       "    .dataframe tbody tr th {\n",
       "        vertical-align: top;\n",
       "    }\n",
       "\n",
       "    .dataframe thead th {\n",
       "        text-align: right;\n",
       "    }\n",
       "</style>\n",
       "<table border=\"1\" class=\"dataframe\">\n",
       "  <thead>\n",
       "    <tr style=\"text-align: right;\">\n",
       "      <th></th>\n",
       "      <th>description</th>\n",
       "      <th>issue_title</th>\n",
       "      <th>owner</th>\n",
       "    </tr>\n",
       "  </thead>\n",
       "  <tbody>\n",
       "    <tr>\n",
       "      <th>0</th>\n",
       "      <td>From Bugzilla Helper:\\nUser-Agent: Mozilla/4.0...</td>\n",
       "      <td>Cookie Manager: \"Don't allow sites that set re...</td>\n",
       "      <td>mconnor@mozilla.com</td>\n",
       "    </tr>\n",
       "    <tr>\n",
       "      <th>1</th>\n",
       "      <td>From Bugzilla Helper:\\nUser-Agent: Mozilla/5.0...</td>\n",
       "      <td>[FIX]Not correctly retrieving post data when s...</td>\n",
       "      <td>bzbarsky@mit.edu</td>\n",
       "    </tr>\n",
       "    <tr>\n",
       "      <th>2</th>\n",
       "      <td>From Bugzilla Helper:\\nUser-Agent: Mozilla/5.0...</td>\n",
       "      <td>Show URI in status bar onmouseover of Back/For...</td>\n",
       "      <td>edilee@mozilla.com</td>\n",
       "    </tr>\n",
       "    <tr>\n",
       "      <th>3</th>\n",
       "      <td>Localization problems with Bookmarks \"Sorted B...</td>\n",
       "      <td>Localization problems with Bookmarks \"Sorted B...</td>\n",
       "      <td>mats@mozilla.com</td>\n",
       "    </tr>\n",
       "    <tr>\n",
       "      <th>4</th>\n",
       "      <td>RFE: Mozilla should support X11 session manage...</td>\n",
       "      <td>Mozilla should support X11 session management</td>\n",
       "      <td>mwu.code@gmail.com</td>\n",
       "    </tr>\n",
       "  </tbody>\n",
       "</table>\n",
       "</div>"
      ],
      "text/plain": [
       "                                         description  \\\n",
       "0  From Bugzilla Helper:\\nUser-Agent: Mozilla/4.0...   \n",
       "1  From Bugzilla Helper:\\nUser-Agent: Mozilla/5.0...   \n",
       "2  From Bugzilla Helper:\\nUser-Agent: Mozilla/5.0...   \n",
       "3  Localization problems with Bookmarks \"Sorted B...   \n",
       "4  RFE: Mozilla should support X11 session manage...   \n",
       "\n",
       "                                         issue_title                owner  \n",
       "0  Cookie Manager: \"Don't allow sites that set re...  mconnor@mozilla.com  \n",
       "1  [FIX]Not correctly retrieving post data when s...     bzbarsky@mit.edu  \n",
       "2  Show URI in status bar onmouseover of Back/For...   edilee@mozilla.com  \n",
       "3  Localization problems with Bookmarks \"Sorted B...     mats@mozilla.com  \n",
       "4      Mozilla should support X11 session management   mwu.code@gmail.com  "
      ]
     },
     "execution_count": 28,
     "metadata": {},
     "output_type": "execute_result"
    }
   ],
   "source": [
    "with open(closed_bugs_json_10) as data_file:\n",
    "    data = json.load(data_file, strict=False)\n",
    "closed_data_10=pd.DataFrame(data)\n",
    "closed_data_10.head()"
   ]
  },
  {
   "cell_type": "code",
   "execution_count": 29,
   "metadata": {},
   "outputs": [
    {
     "data": {
      "text/html": [
       "<div>\n",
       "<style scoped>\n",
       "    .dataframe tbody tr th:only-of-type {\n",
       "        vertical-align: middle;\n",
       "    }\n",
       "\n",
       "    .dataframe tbody tr th {\n",
       "        vertical-align: top;\n",
       "    }\n",
       "\n",
       "    .dataframe thead th {\n",
       "        text-align: right;\n",
       "    }\n",
       "</style>\n",
       "<table border=\"1\" class=\"dataframe\">\n",
       "  <thead>\n",
       "    <tr style=\"text-align: right;\">\n",
       "      <th></th>\n",
       "      <th>description</th>\n",
       "      <th>issue_title</th>\n",
       "      <th>owner</th>\n",
       "    </tr>\n",
       "  </thead>\n",
       "  <tbody>\n",
       "    <tr>\n",
       "      <th>0</th>\n",
       "      <td>From Bugzilla Helper:\\nUser-Agent: Mozilla/4.0...</td>\n",
       "      <td>Cookie Manager: \"Don't allow sites that set re...</td>\n",
       "      <td>mconnor@mozilla.com</td>\n",
       "    </tr>\n",
       "    <tr>\n",
       "      <th>1</th>\n",
       "      <td>From Bugzilla Helper:\\nUser-Agent: Mozilla/5.0...</td>\n",
       "      <td>[FIX]Not correctly retrieving post data when s...</td>\n",
       "      <td>bzbarsky@mit.edu</td>\n",
       "    </tr>\n",
       "    <tr>\n",
       "      <th>2</th>\n",
       "      <td>From Bugzilla Helper:\\nUser-Agent: Mozilla/5.0...</td>\n",
       "      <td>Show URI in status bar onmouseover of Back/For...</td>\n",
       "      <td>edilee@mozilla.com</td>\n",
       "    </tr>\n",
       "    <tr>\n",
       "      <th>3</th>\n",
       "      <td>RFE: Mozilla should support X11 session manage...</td>\n",
       "      <td>Mozilla should support X11 session management</td>\n",
       "      <td>mwu.code@gmail.com</td>\n",
       "    </tr>\n",
       "    <tr>\n",
       "      <th>4</th>\n",
       "      <td>I was trying to look for a form in history (au...</td>\n",
       "      <td>POST result page should not appear in global h...</td>\n",
       "      <td>sdwilsh@forerunnerdesigns.com</td>\n",
       "    </tr>\n",
       "  </tbody>\n",
       "</table>\n",
       "</div>"
      ],
      "text/plain": [
       "                                         description  \\\n",
       "0  From Bugzilla Helper:\\nUser-Agent: Mozilla/4.0...   \n",
       "1  From Bugzilla Helper:\\nUser-Agent: Mozilla/5.0...   \n",
       "2  From Bugzilla Helper:\\nUser-Agent: Mozilla/5.0...   \n",
       "3  RFE: Mozilla should support X11 session manage...   \n",
       "4  I was trying to look for a form in history (au...   \n",
       "\n",
       "                                         issue_title  \\\n",
       "0  Cookie Manager: \"Don't allow sites that set re...   \n",
       "1  [FIX]Not correctly retrieving post data when s...   \n",
       "2  Show URI in status bar onmouseover of Back/For...   \n",
       "3      Mozilla should support X11 session management   \n",
       "4  POST result page should not appear in global h...   \n",
       "\n",
       "                           owner  \n",
       "0            mconnor@mozilla.com  \n",
       "1               bzbarsky@mit.edu  \n",
       "2             edilee@mozilla.com  \n",
       "3             mwu.code@gmail.com  \n",
       "4  sdwilsh@forerunnerdesigns.com  "
      ]
     },
     "execution_count": 29,
     "metadata": {},
     "output_type": "execute_result"
    }
   ],
   "source": [
    "with open(closed_bugs_json_20) as data_file:\n",
    "    data = json.load(data_file, strict=False)\n",
    "closed_data_20=pd.DataFrame(data)\n",
    "closed_data_20.head()"
   ]
  },
  {
   "cell_type": "code",
   "execution_count": 32,
   "metadata": {},
   "outputs": [],
   "source": [
    "class_count=closed_data_0['owner'].value_counts()"
   ]
  },
  {
   "cell_type": "code",
   "execution_count": 44,
   "metadata": {},
   "outputs": [
    {
     "data": {
      "image/png": "[encoded data removed]",
      "text/plain": [
       "<Figure size 720x576 with 1 Axes>"
      ]
     },
     "metadata": {
      "needs_background": "light"
     },
     "output_type": "display_data"
    }
   ],
   "source": [
    "class_plot.make_plot(class_count,'firefox')"
   ]
  },
  {
   "cell_type": "code",
   "execution_count": 42,
   "metadata": {},
   "outputs": [
    {
     "data": {
      "text/plain": [
       "1367"
      ]
     },
     "execution_count": 42,
     "metadata": {},
     "output_type": "execute_result"
    }
   ],
   "source": [
    "len(class_count)"
   ]
  },
  {
   "cell_type": "code",
   "execution_count": null,
   "metadata": {},
   "outputs": [],
   "source": []
  }
 ],
 "metadata": {
  "kernelspec": {
   "display_name": "Python 2",
   "language": "python",
   "name": "python2"
  },
  "language_info": {
   "codemirror_mode": {
    "name": "ipython",
    "version": 2
   },
   "file_extension": ".py",
   "mimetype": "text/x-python",
   "name": "python",
   "nbconvert_exporter": "python",
   "pygments_lexer": "ipython2",
   "version": "2.7.15"
  }
 },
 "nbformat": 4,
 "nbformat_minor": 2
}
